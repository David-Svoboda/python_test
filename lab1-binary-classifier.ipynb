{
  "cells": [
    {
      "cell_type": "markdown",
      "metadata": {
        "id": "XrQlOh9n_qV4"
      },
      "source": [
        "# Lab1: Binary image classifier"
      ]
    },
    {
      "cell_type": "markdown",
      "metadata": {
        "id": "n17YjTbf_qV7"
      },
      "source": [
        "## 1. Setup\n",
        "Install fastbook and setup Google drive connection."
      ]
    },
    {
      "cell_type": "code",
      "execution_count": null,
      "metadata": {
        "id": "__-nx-aO_qV7"
      },
      "outputs": [],
      "source": [
        ""
      ]
    },
    {
      "cell_type": "markdown",
      "metadata": {
        "id": "Kkm5RcdQp_qW"
      },
      "source": [
        "Import necessary libraries"
      ]
    },
    {
      "cell_type": "code",
      "execution_count": null,
      "metadata": {
        "id": "J8ifIEHf_qV8"
      },
      "outputs": [],
      "source": [
        ""
      ]
    },
    {
      "cell_type": "markdown",
      "metadata": {
        "id": "xV-iKCfq_qV8"
      },
      "source": [
        "## 2. Download images \n",
        "Use Azure image search or DuckDuckGo to download 150 images of each class. Save images to Google drive."
      ]
    },
    {
      "cell_type": "code",
      "execution_count": null,
      "metadata": {
        "id": "QN4-flvY_qV8"
      },
      "outputs": [],
      "source": [
        ""
      ]
    },
    {
      "cell_type": "markdown",
      "metadata": {
        "id": "VpfhJ0qk_qV9"
      },
      "source": [
        "### 2.1 Try it out\n",
        "Similar to the lecture notebook, try out your query and plot a few of the resulting images to verify that your search returns sensible images."
      ]
    },
    {
      "cell_type": "code",
      "execution_count": null,
      "metadata": {
        "id": "UfUVSV60_qV9"
      },
      "outputs": [],
      "source": [
        ""
      ]
    },
    {
      "cell_type": "markdown",
      "metadata": {
        "id": "nHJmMMFe_qV_"
      },
      "source": [
        "### 2.2 Get images for the two classes\n",
        "Download 150 images of each class. Save images to Google drive.  \n",
        "Remove any corrupt images using `verify_images()`."
      ]
    },
    {
      "cell_type": "code",
      "execution_count": null,
      "metadata": {
        "id": "39RtFZAl_qV_"
      },
      "outputs": [],
      "source": [
        ""
      ]
    },
    {
      "cell_type": "markdown",
      "metadata": {
        "id": "sNf9LYM3_qWA"
      },
      "source": [
        "## 3. Setup image loaders\n",
        "Setup image loaders, use 20% of images for validation, and show one batch for each training and validation dataset."
      ]
    },
    {
      "cell_type": "code",
      "execution_count": null,
      "metadata": {
        "id": "YiLnnDKO_qWA"
      },
      "outputs": [],
      "source": [
        ""
      ]
    },
    {
      "cell_type": "markdown",
      "metadata": {
        "id": "sFR7VG6tsgAw"
      },
      "source": [
        "**Question 1:** How many images of each class are in trainging and validation sets?\n",
        "\n",
        "*YOUR ANSWER HERE*"
      ]
    },
    {
      "cell_type": "markdown",
      "metadata": {
        "id": "jNeJ0iFf_qWA"
      },
      "source": [
        "## 4. Setup cnn learner\n",
        "Setup a cnn learner with the dataloaders, `resnet18` architecture and `error_rate` as metric."
      ]
    },
    {
      "cell_type": "code",
      "execution_count": null,
      "metadata": {
        "id": "iLN9274gNKoJ"
      },
      "outputs": [],
      "source": [
        ""
      ]
    },
    {
      "cell_type": "markdown",
      "metadata": {
        "id": "3w8EFkFZ_qWB"
      },
      "source": [
        "## 5. Train binary classifier\n",
        "Fine tune for 10 epochs and show results."
      ]
    },
    {
      "cell_type": "code",
      "execution_count": null,
      "metadata": {
        "id": "DuDgDQhBxkSP"
      },
      "outputs": [],
      "source": [
        ""
      ]
    },
    {
      "cell_type": "markdown",
      "metadata": {
        "id": "6SLGYd-utrXD"
      },
      "source": [
        "**Question 2:** Is the model overfitting? Why, why not?\n",
        "\n",
        "*YOUR ANSWER HERE*"
      ]
    },
    {
      "cell_type": "markdown",
      "metadata": {
        "id": "-wcaM4JWukjQ"
      },
      "source": [
        "## 6. Analyze results\n",
        "\n",
        "Plot confusion matrix.\n",
        "\n",
        "Plot top 5 losses.\n"
      ]
    },
    {
      "cell_type": "code",
      "execution_count": null,
      "metadata": {
        "id": "UfRS3rCnu0ir"
      },
      "outputs": [],
      "source": [
        ""
      ]
    },
    {
      "cell_type": "markdown",
      "metadata": {
        "id": "DTKiln9jv0ni"
      },
      "source": [
        "**Question 3:** How many false positive, false negative errors?\n",
        "\n",
        "*YOUR ANSWER HERE*"
      ]
    },
    {
      "cell_type": "markdown",
      "metadata": {
        "id": "5eEP7OxJvV1d"
      },
      "source": [
        "## 7. Summary and Conclusion\n",
        "\n",
        "Summarize:\n",
        "- Type of classifier trained.\n",
        "- Number of images of each class in the training validation sets\n",
        "- Error rate achieved\n",
        "\n",
        "*YOUR ANSWER HERE*\n",
        "\n",
        "Conclusion:\n",
        "- Are there any problems with data/labeling?\n",
        "- Are you satisfied with model performance? Why, why not?\n",
        "\n",
        "*YOUR ANSWER HERE*\n"
      ]
    },
    {
      "cell_type": "markdown",
      "metadata": {
        "id": "6KeGEvFcwqe4"
      },
      "source": [
        "## 8. Reflection\n",
        "Include a sentence or two about \n",
        "- what you liked or disliked, \n",
        "- found interesting, confusing, challangeing, motivating \n",
        "\n",
        "while working on this assignment.\n",
        "\n",
        "*YOUR ANSWER HERE*"
      ]
    },
    {
      "cell_type": "code",
      "execution_count": null,
      "metadata": {
        "id": "NDgrXyZLS8NU"
      },
      "outputs": [],
      "source": [
        ""
      ]
    }
  ],
  "metadata": {
    "accelerator": "GPU",
    "colab": {
      "name": "lab1-binary-classifier.ipynb",
      "provenance": []
    },
    "kernelspec": {
      "display_name": "Python 3",
      "language": "python",
      "name": "python3"
    },
    "language_info": {
      "codemirror_mode": {
        "name": "ipython",
        "version": 3
      },
      "file_extension": ".py",
      "mimetype": "text/x-python",
      "name": "python",
      "nbconvert_exporter": "python",
      "pygments_lexer": "ipython3",
      "version": "3.8.2"
    }
  },
  "nbformat": 4,
  "nbformat_minor": 0
}